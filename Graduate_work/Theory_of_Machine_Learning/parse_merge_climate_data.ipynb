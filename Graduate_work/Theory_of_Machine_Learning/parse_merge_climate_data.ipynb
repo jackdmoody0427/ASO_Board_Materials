{
 "cells": [
  {
   "cell_type": "markdown",
   "id": "fed26211-9758-4df0-b05d-be7e992b78ac",
   "metadata": {},
   "source": [
    "Might be useful: \n",
    "- https://github.com/sdtaylor/pyPRISMClimate\n",
    "- https://gist.github.com/dbr/3351090\n",
    "\n",
    "https://prism.oregonstate.edu/documents/PRISM_formats.pdf\n",
    "\n",
    "https://help.arcgis.com/en/arcgisdesktop/10.0/help/index.html#//009t00000010000000"
   ]
  },
  {
   "cell_type": "code",
   "execution_count": 1,
   "id": "10abd1ae-45c5-4639-8815-a0c82d6ac0bd",
   "metadata": {},
   "outputs": [],
   "source": [
    "import datetime\n",
    "import itertools\n",
    "import functools\n",
    "import os\n",
    "import sys\n",
    "import tempfile\n",
    "import zipfile\n",
    "\n",
    "from collections import defaultdict\n",
    "\n",
    "from pathlib import Path\n",
    "\n",
    "import numpy as np\n",
    "import pandas as pd\n",
    "import rasterio"
   ]
  },
  {
   "cell_type": "code",
   "execution_count": 2,
   "id": "f6d0927b-4e66-4457-b94f-5411a99d0cf9",
   "metadata": {},
   "outputs": [],
   "source": [
    "df = pd.read_csv(\n",
    "    'US_Lightning_Forest_Fires.csv',\n",
    "    index_col='Unnamed: 0',\n",
    ")"
   ]
  },
  {
   "cell_type": "code",
   "execution_count": 3,
   "id": "0f2afc8f-918e-4ef3-a679-a9de112f7161",
   "metadata": {},
   "outputs": [
    {
     "data": {
      "text/plain": [
       "Index(['index', 'FIRE_YEAR', 'Fire_Date', 'DISCOVERY_TIME', 'STAT_CAUSE_DESCR',\n",
       "       'Days_to_extinguish_fire', 'CONT_TIME', 'FIRE_SIZE', 'FIRE_SIZE_CLASS',\n",
       "       'LATITUDE', 'LONGITUDE', 'STATE', 'FIPS_CODE', 'FIPS_NAME'],\n",
       "      dtype='object')"
      ]
     },
     "execution_count": 3,
     "metadata": {},
     "output_type": "execute_result"
    }
   ],
   "source": [
    "df.columns"
   ]
  },
  {
   "cell_type": "code",
   "execution_count": 4,
   "id": "75fe41f1-ec7f-4b12-8790-06c64f9b57bd",
   "metadata": {},
   "outputs": [
    {
     "name": "stdout",
     "output_type": "stream",
     "text": [
      "6788\n",
      "267707\n",
      "278468\n"
     ]
    }
   ],
   "source": [
    "df.Fire_Date = pd.to_datetime(df.Fire_Date)\n",
    "date_set = set(df.Fire_Date)\n",
    "lat_long_pairs = set(df.apply(lambda row: (row.LATITUDE, row.LONGITUDE), axis=1))\n",
    "\n",
    "print(len(date_set))\n",
    "print(len(lat_long_pairs))\n",
    "print(len(df))"
   ]
  },
  {
   "cell_type": "code",
   "execution_count": 5,
   "id": "69bd2077-fc03-4d2a-8b6d-93ebe75fa888",
   "metadata": {},
   "outputs": [
    {
     "data": {
      "text/plain": [
       "<AxesSubplot:>"
      ]
     },
     "execution_count": 5,
     "metadata": {},
     "output_type": "execute_result"
    },
    {
     "data": {
      "image/png": "[encoded data removed]",
      "text/plain": [
       "<Figure size 432x288 with 1 Axes>"
      ]
     },
     "metadata": {
      "needs_background": "light"
     },
     "output_type": "display_data"
    }
   ],
   "source": [
    "df.Fire_Date.dt.month.hist()"
   ]
  },
  {
   "cell_type": "code",
   "execution_count": 6,
   "id": "8bc8ace3-3f84-4cb5-80b2-f617e74e9e61",
   "metadata": {},
   "outputs": [
    {
     "data": {
      "text/plain": [
       "<AxesSubplot:>"
      ]
     },
     "execution_count": 6,
     "metadata": {},
     "output_type": "execute_result"
    },
    {
     "data": {
      "image/png": "[encoded data removed]",
      "text/plain": [
       "<Figure size 432x288 with 1 Axes>"
      ]
     },
     "metadata": {
      "needs_background": "light"
     },
     "output_type": "display_data"
    }
   ],
   "source": [
    "df.Fire_Date.dt.year.hist()"
   ]
  },
  {
   "cell_type": "code",
   "execution_count": 7,
   "id": "a88c49ed-2eac-446e-9c28-6e11ba3920db",
   "metadata": {},
   "outputs": [
    {
     "data": {
      "text/plain": [
       "<AxesSubplot:>"
      ]
     },
     "execution_count": 7,
     "metadata": {},
     "output_type": "execute_result"
    },
    {
     "data": {
      "image/png": "[encoded data removed]",
      "text/plain": [
       "<Figure size 432x288 with 1 Axes>"
      ]
     },
     "metadata": {
      "needs_background": "light"
     },
     "output_type": "display_data"
    }
   ],
   "source": [
    "df.Fire_Date.dt.isocalendar().week.hist()"
   ]
  },
  {
   "cell_type": "code",
   "execution_count": 8,
   "id": "01d4f770-45e2-46ee-92f7-8d862d2ca05d",
   "metadata": {},
   "outputs": [
    {
     "data": {
      "text/plain": [
       "Timestamp('1992-01-01 00:00:00')"
      ]
     },
     "execution_count": 8,
     "metadata": {},
     "output_type": "execute_result"
    }
   ],
   "source": [
    "min(date_set)"
   ]
  },
  {
   "cell_type": "code",
   "execution_count": 9,
   "id": "cb582e42-0bfb-4ad0-bd46-0ec23d0d46d0",
   "metadata": {},
   "outputs": [
    {
     "data": {
      "text/plain": [
       "Timestamp('2015-12-26 00:00:00')"
      ]
     },
     "execution_count": 9,
     "metadata": {},
     "output_type": "execute_result"
    }
   ],
   "source": [
    "max(date_set)"
   ]
  },
  {
   "cell_type": "code",
   "execution_count": 10,
   "id": "619ed7a4-a504-4ea9-a7bc-93e1248b0d4e",
   "metadata": {},
   "outputs": [
    {
     "data": {
      "text/plain": [
       "Timedelta('8760 days 00:00:00')"
      ]
     },
     "execution_count": 10,
     "metadata": {},
     "output_type": "execute_result"
    }
   ],
   "source": [
    "max(date_set) - min(date_set)"
   ]
  },
  {
   "cell_type": "code",
   "execution_count": 11,
   "id": "559ab659-b5ff-4c14-b917-d50b63cddda5",
   "metadata": {},
   "outputs": [
    {
     "data": {
      "text/plain": [
       "6788"
      ]
     },
     "execution_count": 11,
     "metadata": {},
     "output_type": "execute_result"
    }
   ],
   "source": [
    "len(date_set)"
   ]
  },
  {
   "cell_type": "code",
   "execution_count": 12,
   "id": "ea07480d-9290-43d2-9769-8018f1c06888",
   "metadata": {},
   "outputs": [
    {
     "data": {
      "text/html": [
       "<div>\n",
       "<style scoped>\n",
       "    .dataframe tbody tr th:only-of-type {\n",
       "        vertical-align: middle;\n",
       "    }\n",
       "\n",
       "    .dataframe tbody tr th {\n",
       "        vertical-align: top;\n",
       "    }\n",
       "\n",
       "    .dataframe thead th {\n",
       "        text-align: right;\n",
       "    }\n",
       "</style>\n",
       "<table border=\"1\" class=\"dataframe\">\n",
       "  <thead>\n",
       "    <tr style=\"text-align: right;\">\n",
       "      <th></th>\n",
       "      <th>index</th>\n",
       "      <th>FIRE_YEAR</th>\n",
       "      <th>DISCOVERY_TIME</th>\n",
       "      <th>Days_to_extinguish_fire</th>\n",
       "      <th>CONT_TIME</th>\n",
       "      <th>FIRE_SIZE</th>\n",
       "      <th>LATITUDE</th>\n",
       "      <th>LONGITUDE</th>\n",
       "      <th>FIPS_CODE</th>\n",
       "    </tr>\n",
       "  </thead>\n",
       "  <tbody>\n",
       "    <tr>\n",
       "      <th>count</th>\n",
       "      <td>2.784680e+05</td>\n",
       "      <td>278468.000000</td>\n",
       "      <td>228272.000000</td>\n",
       "      <td>227876.000000</td>\n",
       "      <td>220068.000000</td>\n",
       "      <td>278468.000000</td>\n",
       "      <td>278468.000000</td>\n",
       "      <td>278468.000000</td>\n",
       "      <td>156911.000000</td>\n",
       "    </tr>\n",
       "    <tr>\n",
       "      <th>mean</th>\n",
       "      <td>6.182232e+05</td>\n",
       "      <td>2003.264210</td>\n",
       "      <td>1454.013344</td>\n",
       "      <td>2.918978</td>\n",
       "      <td>1548.339354</td>\n",
       "      <td>312.543994</td>\n",
       "      <td>39.403305</td>\n",
       "      <td>-108.226305</td>\n",
       "      <td>58.712276</td>\n",
       "    </tr>\n",
       "    <tr>\n",
       "      <th>std</th>\n",
       "      <td>6.038612e+05</td>\n",
       "      <td>6.642187</td>\n",
       "      <td>397.503497</td>\n",
       "      <td>11.453925</td>\n",
       "      <td>438.388579</td>\n",
       "      <td>5759.149479</td>\n",
       "      <td>6.425141</td>\n",
       "      <td>14.320107</td>\n",
       "      <td>66.980014</td>\n",
       "    </tr>\n",
       "    <tr>\n",
       "      <th>min</th>\n",
       "      <td>1.000000e+00</td>\n",
       "      <td>1992.000000</td>\n",
       "      <td>0.000000</td>\n",
       "      <td>-210.000000</td>\n",
       "      <td>0.000000</td>\n",
       "      <td>0.000100</td>\n",
       "      <td>17.980278</td>\n",
       "      <td>-170.369400</td>\n",
       "      <td>1.000000</td>\n",
       "    </tr>\n",
       "    <tr>\n",
       "      <th>25%</th>\n",
       "      <td>1.313648e+05</td>\n",
       "      <td>1998.000000</td>\n",
       "      <td>1210.000000</td>\n",
       "      <td>0.000000</td>\n",
       "      <td>1242.000000</td>\n",
       "      <td>0.100000</td>\n",
       "      <td>34.633300</td>\n",
       "      <td>-117.578143</td>\n",
       "      <td>19.000000</td>\n",
       "    </tr>\n",
       "    <tr>\n",
       "      <th>50%</th>\n",
       "      <td>3.307905e+05</td>\n",
       "      <td>2003.000000</td>\n",
       "      <td>1510.000000</td>\n",
       "      <td>0.000000</td>\n",
       "      <td>1608.000000</td>\n",
       "      <td>0.200000</td>\n",
       "      <td>39.491600</td>\n",
       "      <td>-111.470000</td>\n",
       "      <td>41.000000</td>\n",
       "    </tr>\n",
       "    <tr>\n",
       "      <th>75%</th>\n",
       "      <td>1.179343e+06</td>\n",
       "      <td>2009.000000</td>\n",
       "      <td>1730.000000</td>\n",
       "      <td>1.000000</td>\n",
       "      <td>1835.000000</td>\n",
       "      <td>2.000000</td>\n",
       "      <td>44.033070</td>\n",
       "      <td>-105.056100</td>\n",
       "      <td>77.000000</td>\n",
       "    </tr>\n",
       "    <tr>\n",
       "      <th>max</th>\n",
       "      <td>1.880458e+06</td>\n",
       "      <td>2015.000000</td>\n",
       "      <td>2359.000000</td>\n",
       "      <td>278.000000</td>\n",
       "      <td>2359.000000</td>\n",
       "      <td>606945.000000</td>\n",
       "      <td>70.138100</td>\n",
       "      <td>-67.158333</td>\n",
       "      <td>800.000000</td>\n",
       "    </tr>\n",
       "  </tbody>\n",
       "</table>\n",
       "</div>"
      ],
      "text/plain": [
       "              index      FIRE_YEAR  DISCOVERY_TIME  Days_to_extinguish_fire  \\\n",
       "count  2.784680e+05  278468.000000   228272.000000            227876.000000   \n",
       "mean   6.182232e+05    2003.264210     1454.013344                 2.918978   \n",
       "std    6.038612e+05       6.642187      397.503497                11.453925   \n",
       "min    1.000000e+00    1992.000000        0.000000              -210.000000   \n",
       "25%    1.313648e+05    1998.000000     1210.000000                 0.000000   \n",
       "50%    3.307905e+05    2003.000000     1510.000000                 0.000000   \n",
       "75%    1.179343e+06    2009.000000     1730.000000                 1.000000   \n",
       "max    1.880458e+06    2015.000000     2359.000000               278.000000   \n",
       "\n",
       "           CONT_TIME      FIRE_SIZE       LATITUDE      LONGITUDE  \\\n",
       "count  220068.000000  278468.000000  278468.000000  278468.000000   \n",
       "mean     1548.339354     312.543994      39.403305    -108.226305   \n",
       "std       438.388579    5759.149479       6.425141      14.320107   \n",
       "min         0.000000       0.000100      17.980278    -170.369400   \n",
       "25%      1242.000000       0.100000      34.633300    -117.578143   \n",
       "50%      1608.000000       0.200000      39.491600    -111.470000   \n",
       "75%      1835.000000       2.000000      44.033070    -105.056100   \n",
       "max      2359.000000  606945.000000      70.138100     -67.158333   \n",
       "\n",
       "           FIPS_CODE  \n",
       "count  156911.000000  \n",
       "mean       58.712276  \n",
       "std        66.980014  \n",
       "min         1.000000  \n",
       "25%        19.000000  \n",
       "50%        41.000000  \n",
       "75%        77.000000  \n",
       "max       800.000000  "
      ]
     },
     "execution_count": 12,
     "metadata": {},
     "output_type": "execute_result"
    }
   ],
   "source": [
    "df.describe()"
   ]
  },
  {
   "cell_type": "code",
   "execution_count": 13,
   "id": "387db9ae-2b7e-4a9b-a420-3c4060976c40",
   "metadata": {},
   "outputs": [
    {
     "name": "stdout",
     "output_type": "stream",
     "text": [
      "\u001b[01;34m./climate_data\u001b[00m\n",
      "├── \u001b[01;34mmax_temp\u001b[00m\n",
      "│   └── \u001b[01;34mmax_temp\u001b[00m\n",
      "│       ├── \u001b[01;32mPRISM_tmax_stable_4kmD2_20040101_20041231_bil.zip\u001b[00m\n",
      "│       ├── \u001b[01;32mPRISM_tmax_stable_4kmD2_20050101_20051231_bil.zip\u001b[00m\n",
      "│       ├── \u001b[01;32mPRISM_tmax_stable_4kmD2_20060101_20061231_bil.zip\u001b[00m\n",
      "│       ├── \u001b[01;32mPRISM_tmax_stable_4kmD2_20070101_20071231_bil.zip\u001b[00m\n",
      "│       ├── \u001b[01;32mPRISM_tmax_stable_4kmD2_20080101_20081231_bil.zip\u001b[00m\n",
      "│       ├── \u001b[01;32mPRISM_tmax_stable_4kmD2_20090101_20091231_bil.zip\u001b[00m\n",
      "│       ├── \u001b[01;32mPRISM_tmax_stable_4kmD2_20100101_20101231_bil.zip\u001b[00m\n",
      "│       ├── \u001b[01;32mPRISM_tmax_stable_4kmD2_20110101_20111231_bil.zip\u001b[00m\n",
      "│       ├── \u001b[01;32mPRISM_tmax_stable_4kmD2_20120101_20121231_bil.zip\u001b[00m\n",
      "│       ├── \u001b[01;32mPRISM_tmax_stable_4kmD2_20130101_20131231_bil.zip\u001b[00m\n",
      "│       ├── \u001b[01;32mPRISM_tmax_stable_4kmD2_20140101_20141231_bil.zip\u001b[00m\n",
      "│       └── \u001b[01;32mPRISM_tmax_stable_4kmD2_20150101_20151231_bil.zip\u001b[00m\n",
      "├── \u001b[01;34mmax_vapor_pressure_deficit\u001b[00m\n",
      "│   └── \u001b[01;34mmax_vapor_pressure_deficit\u001b[00m\n",
      "│       ├── \u001b[01;32mPRISM_vpdmax_stable_4kmD2_20040101_20041231_bil.zip\u001b[00m\n",
      "│       ├── \u001b[01;32mPRISM_vpdmax_stable_4kmD2_20050101_20051231_bil.zip\u001b[00m\n",
      "│       ├── \u001b[01;32mPRISM_vpdmax_stable_4kmD2_20060101_20061231_bil.zip\u001b[00m\n",
      "│       ├── \u001b[01;32mPRISM_vpdmax_stable_4kmD2_20070101_20071231_bil.zip\u001b[00m\n",
      "│       ├── \u001b[01;32mPRISM_vpdmax_stable_4kmD2_20080101_20081231_bil.zip\u001b[00m\n",
      "│       ├── \u001b[01;32mPRISM_vpdmax_stable_4kmD2_20090101_20091231_bil.zip\u001b[00m\n",
      "│       ├── \u001b[01;32mPRISM_vpdmax_stable_4kmD2_20100101_20101231_bil.zip\u001b[00m\n",
      "│       ├── \u001b[01;32mPRISM_vpdmax_stable_4kmD2_20110101_20111231_bil.zip\u001b[00m\n",
      "│       ├── \u001b[01;32mPRISM_vpdmax_stable_4kmD2_20130101_20131231_bil.zip\u001b[00m\n",
      "│       ├── \u001b[01;32mPRISM_vpdmax_stable_4kmD2_20140101_20141231_bil.zip\u001b[00m\n",
      "│       └── \u001b[01;32mPRISM_vpdmax_stable_4kmD2_20150101_20151231_bil.zip\u001b[00m\n",
      "├── \u001b[01;34mmean_dew_pt_temp\u001b[00m\n",
      "│   └── \u001b[01;34mmean_dew_pt_temp\u001b[00m\n",
      "│       ├── \u001b[01;32mPRISM_tdmean_stable_4kmD2_20040101_20041231_bil.zip\u001b[00m\n",
      "│       ├── \u001b[01;32mPRISM_tdmean_stable_4kmD2_20050101_20051231_bil.zip\u001b[00m\n",
      "│       ├── \u001b[01;32mPRISM_tdmean_stable_4kmD2_20060101_20061231_bil.zip\u001b[00m\n",
      "│       ├── \u001b[01;32mPRISM_tdmean_stable_4kmD2_20070101_20071231_bil.zip\u001b[00m\n",
      "│       ├── \u001b[01;32mPRISM_tdmean_stable_4kmD2_20080101_20081231_bil.zip\u001b[00m\n",
      "│       ├── \u001b[01;32mPRISM_tdmean_stable_4kmD2_20090101_20091231_bil.zip\u001b[00m\n",
      "│       ├── \u001b[01;32mPRISM_tdmean_stable_4kmD2_20100101_20101231_bil.zip\u001b[00m\n",
      "│       ├── \u001b[01;32mPRISM_tdmean_stable_4kmD2_20110101_20111231_bil.zip\u001b[00m\n",
      "│       ├── \u001b[01;32mPRISM_tdmean_stable_4kmD2_20120101_20121231_bil.zip\u001b[00m\n",
      "│       ├── \u001b[01;32mPRISM_tdmean_stable_4kmD2_20130101_20131231_bil.zip\u001b[00m\n",
      "│       ├── \u001b[01;32mPRISM_tdmean_stable_4kmD2_20140101_20141231_bil.zip\u001b[00m\n",
      "│       └── \u001b[01;32mPRISM_tdmean_stable_4kmD2_20150101_20151231_bil.zip\u001b[00m\n",
      "├── \u001b[01;34mmean_temp\u001b[00m\n",
      "│   └── \u001b[01;34mmean_temp\u001b[00m\n",
      "│       ├── \u001b[01;32mPRISM_tmean_stable_4kmD2_20040101_20041231_bil.zip\u001b[00m\n",
      "│       ├── \u001b[01;32mPRISM_tmean_stable_4kmD2_20050101_20051231_bil.zip\u001b[00m\n",
      "│       ├── \u001b[01;32mPRISM_tmean_stable_4kmD2_20060101_20061231_bil.zip\u001b[00m\n",
      "│       ├── \u001b[01;32mPRISM_tmean_stable_4kmD2_20070101_20071231_bil.zip\u001b[00m\n",
      "│       ├── \u001b[01;32mPRISM_tmean_stable_4kmD2_20080101_20081231_bil.zip\u001b[00m\n",
      "│       ├── \u001b[01;32mPRISM_tmean_stable_4kmD2_20090101_20091231_bil.zip\u001b[00m\n",
      "│       ├── \u001b[01;32mPRISM_tmean_stable_4kmD2_20100101_20101231_bil.zip\u001b[00m\n",
      "│       ├── \u001b[01;32mPRISM_tmean_stable_4kmD2_20110101_20111231_bil.zip\u001b[00m\n",
      "│       ├── \u001b[01;32mPRISM_tmean_stable_4kmD2_20120101_20121231_bil.zip\u001b[00m\n",
      "│       ├── \u001b[01;32mPRISM_tmean_stable_4kmD2_20130101_20131231_bil.zip\u001b[00m\n",
      "│       ├── \u001b[01;32mPRISM_tmean_stable_4kmD2_20140101_20141231_bil.zip\u001b[00m\n",
      "│       └── \u001b[01;32mPRISM_tmean_stable_4kmD2_20150101_20151231_bil.zip\u001b[00m\n",
      "├── \u001b[01;34mmin_temp\u001b[00m\n",
      "│   └── \u001b[01;34mmin_temp\u001b[00m\n",
      "│       ├── \u001b[01;32mPRISM_tmin_stable_4kmD2_20040101_20041231_bil.zip\u001b[00m\n",
      "│       ├── \u001b[01;32mPRISM_tmin_stable_4kmD2_20050101_20051231_bil.zip\u001b[00m\n",
      "│       ├── \u001b[01;32mPRISM_tmin_stable_4kmD2_20060101_20061231_bil.zip\u001b[00m\n",
      "│       ├── \u001b[01;32mPRISM_tmin_stable_4kmD2_20070101_20071231_bil.zip\u001b[00m\n",
      "│       ├── \u001b[01;32mPRISM_tmin_stable_4kmD2_20080101_20081231_bil.zip\u001b[00m\n",
      "│       ├── \u001b[01;32mPRISM_tmin_stable_4kmD2_20090101_20091231_bil.zip\u001b[00m\n",
      "│       ├── \u001b[01;32mPRISM_tmin_stable_4kmD2_20100101_20101231_bil.zip\u001b[00m\n",
      "│       ├── \u001b[01;32mPRISM_tmin_stable_4kmD2_20110101_20111231_bil.zip\u001b[00m\n",
      "│       ├── \u001b[01;32mPRISM_tmin_stable_4kmD2_20120101_20121231_bil.zip\u001b[00m\n",
      "│       ├── \u001b[01;32mPRISM_tmin_stable_4kmD2_20130101_20131231_bil.zip\u001b[00m\n",
      "│       ├── \u001b[01;32mPRISM_tmin_stable_4kmD2_20140101_20141231_bil.zip\u001b[00m\n",
      "│       └── \u001b[01;32mPRISM_tmin_stable_4kmD2_20150101_20151231_bil.zip\u001b[00m\n",
      "├── \u001b[01;34mmin_vapor_pressure_deficit\u001b[00m\n",
      "│   └── \u001b[01;34mmin_vapor_pressure_deficit\u001b[00m\n",
      "│       ├── \u001b[01;32mPRISM_vpdmin_stable_4kmD2_20040101_20041231_bil.zip\u001b[00m\n",
      "│       ├── \u001b[01;32mPRISM_vpdmin_stable_4kmD2_20050101_20051231_bil.zip\u001b[00m\n",
      "│       ├── \u001b[01;32mPRISM_vpdmin_stable_4kmD2_20060101_20061231_bil.zip\u001b[00m\n",
      "│       ├── \u001b[01;32mPRISM_vpdmin_stable_4kmD2_20070101_20071231_bil.zip\u001b[00m\n",
      "│       ├── \u001b[01;32mPRISM_vpdmin_stable_4kmD2_20080101_20081231_bil.zip\u001b[00m\n",
      "│       ├── \u001b[01;32mPRISM_vpdmin_stable_4kmD2_20090101_20091231_bil.zip\u001b[00m\n",
      "│       ├── \u001b[01;32mPRISM_vpdmin_stable_4kmD2_20100101_20101231_bil.zip\u001b[00m\n",
      "│       ├── \u001b[01;32mPRISM_vpdmin_stable_4kmD2_20110101_20111231_bil.zip\u001b[00m\n",
      "│       ├── \u001b[01;32mPRISM_vpdmin_stable_4kmD2_20120101_20121231_bil.zip\u001b[00m\n",
      "│       ├── \u001b[01;32mPRISM_vpdmin_stable_4kmD2_20130101_20131231_bil.zip\u001b[00m\n",
      "│       ├── \u001b[01;32mPRISM_vpdmin_stable_4kmD2_20140101_20141231_bil.zip\u001b[00m\n",
      "│       └── \u001b[01;32mPRISM_vpdmin_stable_4kmD2_20150101_20151231_bil.zip\u001b[00m\n",
      "└── \u001b[01;34mprecipitation\u001b[00m\n",
      "    └── \u001b[01;34mprecipitation\u001b[00m\n",
      "        ├── \u001b[01;32mPRISM_ppt_stable_4kmD2_20040101_20041231_bil.zip\u001b[00m\n",
      "        ├── \u001b[01;32mPRISM_ppt_stable_4kmD2_20050101_20051231_bil.zip\u001b[00m\n",
      "        ├── \u001b[01;32mPRISM_ppt_stable_4kmD2_20060101_20061231_bil.zip\u001b[00m\n",
      "        ├── \u001b[01;32mPRISM_ppt_stable_4kmD2_20070101_20071231_bil.zip\u001b[00m\n",
      "        ├── \u001b[01;32mPRISM_ppt_stable_4kmD2_20080101_20081231_bil.zip\u001b[00m\n",
      "        ├── \u001b[01;32mPRISM_ppt_stable_4kmD2_20090101_20091231_bil.zip\u001b[00m\n",
      "        ├── \u001b[01;32mPRISM_ppt_stable_4kmD2_20100101_20101231_bil.zip\u001b[00m\n",
      "        ├── \u001b[01;32mPRISM_ppt_stable_4kmD2_20110101_20111231_bil.zip\u001b[00m\n",
      "        ├── \u001b[01;32mPRISM_ppt_stable_4kmD2_20120101_20121231_bil.zip\u001b[00m\n",
      "        ├── \u001b[01;32mPRISM_ppt_stable_4kmD2_20130101_20131231_bil.zip\u001b[00m\n",
      "        ├── \u001b[01;32mPRISM_ppt_stable_4kmD2_20140101_20141231_bil.zip\u001b[00m\n",
      "        └── \u001b[01;32mPRISM_ppt_stable_4kmD2_20150101_20151231_bil.zip\u001b[00m\n",
      "\n",
      "14 directories, 83 files\n"
     ]
    }
   ],
   "source": [
    "!tree ./climate_data"
   ]
  },
  {
   "cell_type": "code",
   "execution_count": 14,
   "id": "e6b359a7-e87e-4a64-b53e-3ea3c2558741",
   "metadata": {},
   "outputs": [],
   "source": [
    "interested_variables = [\n",
    "    'ppt', # precipitation\n",
    "    'tmean', # mean_temp\n",
    "    'tmax', # max_temp\n",
    "    'tmin', # min_temp\n",
    "    'tdmean', # mean_dew_pt_temp\n",
    "    'vpdmin', # min_vapor_pressure_deficit\n",
    "    'vpdmax', # max_vapor_pressure_deficit\n",
    "]"
   ]
  },
  {
   "cell_type": "code",
   "execution_count": 15,
   "id": "bd3df1a8-b6a8-4742-892a-02c53bd1d68b",
   "metadata": {},
   "outputs": [],
   "source": [
    "date_delta = 7"
   ]
  },
  {
   "cell_type": "code",
   "execution_count": 16,
   "id": "7ad0716f-50df-41a0-ae05-a825b3cbaa75",
   "metadata": {},
   "outputs": [],
   "source": [
    "extract_dir = Path('./extracted_data')\n",
    "extract_dir.mkdir(parents=True, exist_ok=True)"
   ]
  },
  {
   "cell_type": "markdown",
   "id": "a55c6a4d-529a-47f4-b108-b83ec1fee2cb",
   "metadata": {},
   "source": [
    "This section of code tracks any files that have already been extracted, so that we don't extract them again."
   ]
  },
  {
   "cell_type": "code",
   "execution_count": 17,
   "id": "3fdb528c-4260-4212-b32c-a2e686cc3a3f",
   "metadata": {},
   "outputs": [],
   "source": [
    "existing_files = set()\n",
    "for root, dirs, files in os.walk(str(extract_dir)):\n",
    "    root_path = Path(root)\n",
    "    for ff in files:\n",
    "        existing_files.add(str(ff))"
   ]
  },
  {
   "cell_type": "markdown",
   "id": "0c9a0424-22af-49a1-a472-954988f8fb89",
   "metadata": {},
   "source": [
    "We recursively look into folders of zip files and only extract the `.hdr` and `.bil` files.\n",
    "We also make sure that we don't extract anything that exists in the `extracted_dir` already."
   ]
  },
  {
   "cell_type": "code",
   "execution_count": 18,
   "id": "98d037e5-a3d6-4680-8036-d2e0a170e7ca",
   "metadata": {},
   "outputs": [],
   "source": [
    "for root, dirs, files in os.walk('climate_data'):\n",
    "    root_path = Path(root)\n",
    "    for ff in files:\n",
    "        file_path = root_path / ff\n",
    "        if file_path.suffix == '.zip':\n",
    "            with zipfile.ZipFile(file_path, 'r') as archive:\n",
    "                for afile in archive.filelist:\n",
    "                    if afile.filename in existing_files:\n",
    "                        continue\n",
    "                    if afile.filename.endswith('.hdr') or afile.filename.endswith('.bil'):\n",
    "                        src_file = archive.extract(afile, path=extract_dir)"
   ]
  },
  {
   "cell_type": "code",
   "execution_count": 19,
   "id": "1ee1bb40-bc93-491d-8937-ff2b0ac3cf1f",
   "metadata": {},
   "outputs": [],
   "source": [
    "for var_name in interested_variables:\n",
    "    df[var_name] = np.nan\n",
    "    df[f'{var_name}-{date_delta}'] = np.nan"
   ]
  },
  {
   "cell_type": "code",
   "execution_count": 20,
   "id": "8927c39d-cf63-4db6-9be8-c582cef48854",
   "metadata": {},
   "outputs": [],
   "source": [
    "def get_data_mean(row, climate_data):\n",
    "    coordinate = (row.LONGITUDE, row.LATITUDE)\n",
    "    if coordinate not in climate_data:\n",
    "        return np.nan\n",
    "\n",
    "    data_list = list(climate_data[coordinate].values())\n",
    "    data_list = [item for item in data_list if np.isfinite(item)]\n",
    "\n",
    "    if not data_list:\n",
    "        # no entries\n",
    "        return np.nan\n",
    "\n",
    "    return np.mean(data_list)"
   ]
  },
  {
   "cell_type": "markdown",
   "id": "4fb1abc5-6443-4122-bff3-275790fc2634",
   "metadata": {},
   "source": [
    "We use `rasterio` to read a `.bil` file."
   ]
  },
  {
   "cell_type": "code",
   "execution_count": 21,
   "id": "794c7933-229c-482d-8a7c-1f2b590be4da",
   "metadata": {},
   "outputs": [
    {
     "name": "stdout",
     "output_type": "stream",
     "text": [
      "2021-12-02 23:59:33.620465: 0:01:29.218450 : 10009 / 278468 = 0.03594308861341339\n",
      "2021-12-03 00:00:43.319767: 0:02:38.917752 : 20020 / 278468 = 0.07189335938061106\n",
      "2021-12-03 00:01:54.558750: 0:03:50.156735 : 30032 / 278468 = 0.10784722122470086\n",
      "2021-12-03 00:03:06.380727: 0:05:01.978712 : 40014 / 278468 = 0.14369335076202652\n",
      "2021-12-03 00:04:10.461076: 0:06:06.059061 : 50025 / 278468 = 0.1796436215292242\n",
      "2021-12-03 00:05:10.816297: 0:07:06.414282 : 60240 / 278468 = 0.21632647198241808\n"
     ]
    },
    {
     "name": "stderr",
     "output_type": "stream",
     "text": [
      "Read or write failed. extracted_data/PRISM_tdmean_stable_4kmD2_20140721_bil.bil, band 1: IReadBlock failed at X offset 0, Y offset 443: Failed to read scanline 443.\n"
     ]
    },
    {
     "name": "stdout",
     "output_type": "stream",
     "text": [
      "2021-12-03 00:06:18.037036: 0:08:13.635021 : 70002 / 278468 = 0.2513825646034733\n",
      "2021-12-03 00:07:26.183621: 0:09:21.781606 : 80000 / 278468 = 0.28728615137107316\n",
      "2021-12-03 00:08:30.605401: 0:10:26.203386 : 90142 / 278468 = 0.32370685321114095\n",
      "2021-12-03 00:09:26.110607: 0:11:21.708592 : 100019 / 278468 = 0.35917591967479207\n"
     ]
    },
    {
     "name": "stderr",
     "output_type": "stream",
     "text": [
      "Read or write failed. extracted_data/PRISM_tdmean_stable_4kmD2_20140721_bil.bil, band 1: IReadBlock failed at X offset 0, Y offset 443: Failed to read scanline 443.\n"
     ]
    },
    {
     "name": "stdout",
     "output_type": "stream",
     "text": [
      "2021-12-03 00:10:27.813880: 0:12:23.411865 : 110057 / 278468 = 0.39522314951807747\n"
     ]
    },
    {
     "name": "stderr",
     "output_type": "stream",
     "text": [
      "Read or write failed. extracted_data/PRISM_tdmean_stable_4kmD2_20140721_bil.bil, band 1: IReadBlock failed at X offset 0, Y offset 443: Failed to read scanline 443.\n"
     ]
    },
    {
     "name": "stdout",
     "output_type": "stream",
     "text": [
      "2021-12-03 00:11:31.762849: 0:13:27.360834 : 120095 / 278468 = 0.43127037936136287\n",
      "2021-12-03 00:12:32.682672: 0:14:28.280657 : 130154 / 278468 = 0.4673930218193832\n",
      "2021-12-03 00:13:15.512678: 0:15:11.110663 : 140135 / 278468 = 0.5032355602798168\n",
      "2021-12-03 00:14:20.213979: 0:16:15.811964 : 150095 / 278468 = 0.5390026861255153\n",
      "2021-12-03 00:15:12.906757: 0:17:08.504742 : 160297 / 278468 = 0.5756388525791114\n",
      "2021-12-03 00:16:10.813301: 0:18:06.411286 : 170056 / 278468 = 0.6106841719694902\n",
      "2021-12-03 00:17:01.130885: 0:18:56.728870 : 180047 / 278468 = 0.6465626211988451\n",
      "2021-12-03 00:17:53.002208: 0:19:48.600193 : 190007 / 278468 = 0.6823297470445437\n"
     ]
    },
    {
     "name": "stderr",
     "output_type": "stream",
     "text": [
      "Read or write failed. extracted_data/PRISM_tdmean_stable_4kmD2_20140721_bil.bil, band 1: IReadBlock failed at X offset 0, Y offset 443: Failed to read scanline 443.\n"
     ]
    },
    {
     "name": "stdout",
     "output_type": "stream",
     "text": [
      "2021-12-03 00:18:37.505685: 0:20:33.103670 : 200083 / 278468 = 0.7185134378097304\n",
      "2021-12-03 00:19:30.378205: 0:21:25.976190 : 210069 / 278468 = 0.7543739316546246\n",
      "2021-12-03 00:20:28.278423: 0:22:23.876408 : 220000 / 278468 = 0.7900369162704511\n",
      "2021-12-03 00:21:22.874053: 0:23:18.472038 : 230154 / 278468 = 0.8265007110332246\n"
     ]
    },
    {
     "name": "stderr",
     "output_type": "stream",
     "text": [
      "Read or write failed. extracted_data/PRISM_tdmean_stable_4kmD2_20140721_bil.bil, band 1: IReadBlock failed at X offset 0, Y offset 443: Failed to read scanline 443.\n",
      "Read or write failed. extracted_data/PRISM_tdmean_stable_4kmD2_20140721_bil.bil, band 1: IReadBlock failed at X offset 0, Y offset 443: Failed to read scanline 443.\n"
     ]
    },
    {
     "name": "stdout",
     "output_type": "stream",
     "text": [
      "2021-12-03 00:22:13.289845: 0:24:08.887830 : 240033 / 278468 = 0.86197695965066\n"
     ]
    },
    {
     "name": "stderr",
     "output_type": "stream",
     "text": [
      "Read or write failed. extracted_data/PRISM_tdmean_stable_4kmD2_20140721_bil.bil, band 1: IReadBlock failed at X offset 0, Y offset 443: Failed to read scanline 443.\n"
     ]
    },
    {
     "name": "stdout",
     "output_type": "stream",
     "text": [
      "2021-12-03 00:23:07.863587: 0:25:03.461572 : 250100 / 278468 = 0.8981283307238175\n",
      "2021-12-03 00:24:04.476073: 0:26:00.074058 : 260002 / 278468 = 0.9336871741097721\n",
      "2021-12-03 00:24:48.235763: 0:26:43.833748 : 270128 / 278468 = 0.9700504187195657\n"
     ]
    }
   ],
   "source": [
    "count = 0\n",
    "total = len(df)\n",
    "start_time = datetime.datetime.now()\n",
    "progress_counter = 0\n",
    "progress_threshold = 10_000\n",
    "for date in date_set:\n",
    "    date_mask = df.Fire_Date == date\n",
    "    sub_df = df[date_mask]\n",
    "    \n",
    "    long_lat_pairs = set(sub_df.apply(lambda row: (row.LONGITUDE, row.LATITUDE), axis=1))\n",
    "\n",
    "    #print(len(sub_df))\n",
    "\n",
    "    for var_name in interested_variables:\n",
    "        \n",
    "        climate_data = defaultdict(lambda: defaultdict(lambda: np.nan))\n",
    "        \n",
    "        for tdelta in range(date_delta):\n",
    "            cur_date = date - pd.DateOffset(days=tdelta)\n",
    "            datestr = cur_date.strftime('%Y%m%d')\n",
    "            file_name = f'PRISM_{var_name}_stable_4kmD2_{datestr}_bil.bil'\n",
    "            file_path = extract_dir / file_name\n",
    "            \n",
    "            if not file_path.exists():\n",
    "                # file is not found\n",
    "                continue\n",
    "            \n",
    "            try:\n",
    "                with rasterio.open(file_path) as data:\n",
    "                    data_ary = data.read()\n",
    "\n",
    "                    (x0, y0) = data.xy(0,0)\n",
    "                    (x1, y1) = data.xy(1,1)\n",
    "                    # (xn, yn) = data.xy(data.width, data.height)\n",
    "\n",
    "                    delta_x = x1-x0\n",
    "                    delta_y = y1-y0\n",
    "\n",
    "                    for (xx, yy) in long_lat_pairs:\n",
    "                        if not ((data.bounds.left <= xx <= data.bounds.right) and (data.bounds.bottom <= yy <= data.bounds.top)):\n",
    "                            # corrdinate is not in bounds of data\n",
    "                            # skip\n",
    "                            continue\n",
    "\n",
    "                        col_index = int(round((xx - x0) / delta_x))\n",
    "                        row_index = int(round((yy - y0) / delta_y))\n",
    "\n",
    "                        if not ((0 <= row_index < data.height) and (0 <= col_index < data.width)):\n",
    "                            # not in range\n",
    "                            continue\n",
    "\n",
    "                        data_val = data_ary[0,row_index,col_index]\n",
    "                        if data_val == -9999:\n",
    "                            # missing data value\n",
    "                            # skip value\n",
    "                            continue\n",
    "\n",
    "                        climate_data[(xx,yy)][cur_date] = data_val\n",
    "            except Exception as e:\n",
    "                print(e, file=sys.stderr)\n",
    "\n",
    "#         display(\n",
    "#             *[\n",
    "#                 [\n",
    "#                     climate_data[coord][date-pd.DateOffset(days=tdelta)]\n",
    "#                     for tdelta in range(date_delta)\n",
    "#                 ]\n",
    "#                 for coord in long_lat_pairs\n",
    "#             ]\n",
    "#         )\n",
    "\n",
    "        df.loc[date_mask, var_name] = sub_df.apply(\n",
    "            lambda row: climate_data[row.LONGITUDE, row.LATITUDE][cur_date],\n",
    "            axis = 1,\n",
    "        )\n",
    "        df.loc[date_mask, f'{var_name}-{date_delta}'] = sub_df.apply(\n",
    "            functools.partial(get_data_mean, climate_data=climate_data),\n",
    "            axis = 1,\n",
    "        )\n",
    "\n",
    "    # display(sub_df.iloc[:,-4:])\n",
    "    count += len(sub_df)\n",
    "\n",
    "    should_print = (count // progress_threshold) > progress_counter\n",
    "    progress_counter += should_print\n",
    "    if should_print:\n",
    "        cur_time = datetime.datetime.now()\n",
    "        cur_delta = cur_time-start_time\n",
    "        print(f'{cur_time}: {cur_delta} : {count} / {total} = {count/total}')"
   ]
  },
  {
   "cell_type": "markdown",
   "id": "1f88a211-efd7-48c4-9657-0cbfe0a2fb6f",
   "metadata": {},
   "source": [
    "How much fire data is missing climate data"
   ]
  },
  {
   "cell_type": "code",
   "execution_count": 22,
   "id": "dd60f47a-e533-4240-a9fc-9efcc1835664",
   "metadata": {},
   "outputs": [
    {
     "data": {
      "text/plain": [
       "0.27181220104284876"
      ]
     },
     "execution_count": 22,
     "metadata": {},
     "output_type": "execute_result"
    }
   ],
   "source": [
    "len(df.dropna())/len(df)"
   ]
  },
  {
   "cell_type": "code",
   "execution_count": 24,
   "id": "e4366e6e-766e-4d3d-8772-198363c2d95f",
   "metadata": {},
   "outputs": [
    {
     "data": {
      "text/html": [
       "<div>\n",
       "<style scoped>\n",
       "    .dataframe tbody tr th:only-of-type {\n",
       "        vertical-align: middle;\n",
       "    }\n",
       "\n",
       "    .dataframe tbody tr th {\n",
       "        vertical-align: top;\n",
       "    }\n",
       "\n",
       "    .dataframe thead th {\n",
       "        text-align: right;\n",
       "    }\n",
       "</style>\n",
       "<table border=\"1\" class=\"dataframe\">\n",
       "  <thead>\n",
       "    <tr style=\"text-align: right;\">\n",
       "      <th></th>\n",
       "      <th>index</th>\n",
       "      <th>FIRE_YEAR</th>\n",
       "      <th>DISCOVERY_TIME</th>\n",
       "      <th>Days_to_extinguish_fire</th>\n",
       "      <th>CONT_TIME</th>\n",
       "      <th>FIRE_SIZE</th>\n",
       "      <th>LATITUDE</th>\n",
       "      <th>LONGITUDE</th>\n",
       "      <th>FIPS_CODE</th>\n",
       "      <th>ppt</th>\n",
       "      <th>...</th>\n",
       "      <th>tmax</th>\n",
       "      <th>tmax-7</th>\n",
       "      <th>tmin</th>\n",
       "      <th>tmin-7</th>\n",
       "      <th>tdmean</th>\n",
       "      <th>tdmean-7</th>\n",
       "      <th>vpdmin</th>\n",
       "      <th>vpdmin-7</th>\n",
       "      <th>vpdmax</th>\n",
       "      <th>vpdmax-7</th>\n",
       "    </tr>\n",
       "  </thead>\n",
       "  <tbody>\n",
       "    <tr>\n",
       "      <th>count</th>\n",
       "      <td>2.784680e+05</td>\n",
       "      <td>278468.000000</td>\n",
       "      <td>228272.000000</td>\n",
       "      <td>227876.000000</td>\n",
       "      <td>220068.000000</td>\n",
       "      <td>278468.000000</td>\n",
       "      <td>278468.000000</td>\n",
       "      <td>278468.000000</td>\n",
       "      <td>156911.000000</td>\n",
       "      <td>131469.000000</td>\n",
       "      <td>...</td>\n",
       "      <td>131469.000000</td>\n",
       "      <td>131471.000000</td>\n",
       "      <td>131469.000000</td>\n",
       "      <td>131471.000000</td>\n",
       "      <td>131395.000000</td>\n",
       "      <td>131471.000000</td>\n",
       "      <td>131469.000000</td>\n",
       "      <td>131471.000000</td>\n",
       "      <td>120487.000000</td>\n",
       "      <td>120492.000000</td>\n",
       "    </tr>\n",
       "    <tr>\n",
       "      <th>mean</th>\n",
       "      <td>6.182232e+05</td>\n",
       "      <td>2003.264210</td>\n",
       "      <td>1454.013344</td>\n",
       "      <td>2.918978</td>\n",
       "      <td>1548.339354</td>\n",
       "      <td>312.543994</td>\n",
       "      <td>39.403305</td>\n",
       "      <td>-108.226305</td>\n",
       "      <td>58.712276</td>\n",
       "      <td>1.159723</td>\n",
       "      <td>...</td>\n",
       "      <td>28.126682</td>\n",
       "      <td>28.696259</td>\n",
       "      <td>12.312761</td>\n",
       "      <td>12.795522</td>\n",
       "      <td>6.571763</td>\n",
       "      <td>7.178250</td>\n",
       "      <td>4.195769</td>\n",
       "      <td>4.271613</td>\n",
       "      <td>29.683108</td>\n",
       "      <td>30.574807</td>\n",
       "    </tr>\n",
       "    <tr>\n",
       "      <th>std</th>\n",
       "      <td>6.038612e+05</td>\n",
       "      <td>6.642187</td>\n",
       "      <td>397.503497</td>\n",
       "      <td>11.453925</td>\n",
       "      <td>438.388579</td>\n",
       "      <td>5759.149479</td>\n",
       "      <td>6.425141</td>\n",
       "      <td>14.320107</td>\n",
       "      <td>66.980014</td>\n",
       "      <td>4.231519</td>\n",
       "      <td>...</td>\n",
       "      <td>6.317697</td>\n",
       "      <td>5.513469</td>\n",
       "      <td>6.288081</td>\n",
       "      <td>5.807111</td>\n",
       "      <td>8.377103</td>\n",
       "      <td>7.619180</td>\n",
       "      <td>3.912654</td>\n",
       "      <td>3.438213</td>\n",
       "      <td>12.388688</td>\n",
       "      <td>10.674274</td>\n",
       "    </tr>\n",
       "    <tr>\n",
       "      <th>min</th>\n",
       "      <td>1.000000e+00</td>\n",
       "      <td>1992.000000</td>\n",
       "      <td>0.000000</td>\n",
       "      <td>-210.000000</td>\n",
       "      <td>0.000000</td>\n",
       "      <td>0.000100</td>\n",
       "      <td>17.980278</td>\n",
       "      <td>-170.369400</td>\n",
       "      <td>1.000000</td>\n",
       "      <td>0.000000</td>\n",
       "      <td>...</td>\n",
       "      <td>-12.044000</td>\n",
       "      <td>-8.421714</td>\n",
       "      <td>-25.070000</td>\n",
       "      <td>-20.154144</td>\n",
       "      <td>-22.155001</td>\n",
       "      <td>-18.173141</td>\n",
       "      <td>0.000000</td>\n",
       "      <td>0.000000</td>\n",
       "      <td>0.000000</td>\n",
       "      <td>1.197572</td>\n",
       "    </tr>\n",
       "    <tr>\n",
       "      <th>25%</th>\n",
       "      <td>1.313648e+05</td>\n",
       "      <td>1998.000000</td>\n",
       "      <td>1210.000000</td>\n",
       "      <td>0.000000</td>\n",
       "      <td>1242.000000</td>\n",
       "      <td>0.100000</td>\n",
       "      <td>34.633300</td>\n",
       "      <td>-117.578143</td>\n",
       "      <td>19.000000</td>\n",
       "      <td>0.000000</td>\n",
       "      <td>...</td>\n",
       "      <td>24.799000</td>\n",
       "      <td>25.685716</td>\n",
       "      <td>8.244000</td>\n",
       "      <td>9.029643</td>\n",
       "      <td>0.822000</td>\n",
       "      <td>1.962571</td>\n",
       "      <td>1.119000</td>\n",
       "      <td>1.600143</td>\n",
       "      <td>21.274500</td>\n",
       "      <td>23.364892</td>\n",
       "    </tr>\n",
       "    <tr>\n",
       "      <th>50%</th>\n",
       "      <td>3.307905e+05</td>\n",
       "      <td>2003.000000</td>\n",
       "      <td>1510.000000</td>\n",
       "      <td>0.000000</td>\n",
       "      <td>1608.000000</td>\n",
       "      <td>0.200000</td>\n",
       "      <td>39.491600</td>\n",
       "      <td>-111.470000</td>\n",
       "      <td>41.000000</td>\n",
       "      <td>0.000000</td>\n",
       "      <td>...</td>\n",
       "      <td>29.007000</td>\n",
       "      <td>29.358570</td>\n",
       "      <td>12.041000</td>\n",
       "      <td>12.380429</td>\n",
       "      <td>5.753000</td>\n",
       "      <td>5.950000</td>\n",
       "      <td>3.043000</td>\n",
       "      <td>3.485857</td>\n",
       "      <td>29.143999</td>\n",
       "      <td>30.094500</td>\n",
       "    </tr>\n",
       "    <tr>\n",
       "      <th>75%</th>\n",
       "      <td>1.179343e+06</td>\n",
       "      <td>2009.000000</td>\n",
       "      <td>1730.000000</td>\n",
       "      <td>1.000000</td>\n",
       "      <td>1835.000000</td>\n",
       "      <td>2.000000</td>\n",
       "      <td>44.033070</td>\n",
       "      <td>-105.056100</td>\n",
       "      <td>77.000000</td>\n",
       "      <td>0.086000</td>\n",
       "      <td>...</td>\n",
       "      <td>32.502998</td>\n",
       "      <td>32.553429</td>\n",
       "      <td>16.490000</td>\n",
       "      <td>16.494572</td>\n",
       "      <td>11.461500</td>\n",
       "      <td>11.126358</td>\n",
       "      <td>6.234000</td>\n",
       "      <td>6.022643</td>\n",
       "      <td>37.490002</td>\n",
       "      <td>37.252892</td>\n",
       "    </tr>\n",
       "    <tr>\n",
       "      <th>max</th>\n",
       "      <td>1.880458e+06</td>\n",
       "      <td>2015.000000</td>\n",
       "      <td>2359.000000</td>\n",
       "      <td>278.000000</td>\n",
       "      <td>2359.000000</td>\n",
       "      <td>606945.000000</td>\n",
       "      <td>70.138100</td>\n",
       "      <td>-67.158333</td>\n",
       "      <td>800.000000</td>\n",
       "      <td>274.108002</td>\n",
       "      <td>...</td>\n",
       "      <td>48.147999</td>\n",
       "      <td>46.906139</td>\n",
       "      <td>32.653000</td>\n",
       "      <td>31.742285</td>\n",
       "      <td>26.500000</td>\n",
       "      <td>25.960714</td>\n",
       "      <td>40.929001</td>\n",
       "      <td>35.721428</td>\n",
       "      <td>107.706001</td>\n",
       "      <td>91.770439</td>\n",
       "    </tr>\n",
       "  </tbody>\n",
       "</table>\n",
       "<p>8 rows × 23 columns</p>\n",
       "</div>"
      ],
      "text/plain": [
       "              index      FIRE_YEAR  DISCOVERY_TIME  Days_to_extinguish_fire  \\\n",
       "count  2.784680e+05  278468.000000   228272.000000            227876.000000   \n",
       "mean   6.182232e+05    2003.264210     1454.013344                 2.918978   \n",
       "std    6.038612e+05       6.642187      397.503497                11.453925   \n",
       "min    1.000000e+00    1992.000000        0.000000              -210.000000   \n",
       "25%    1.313648e+05    1998.000000     1210.000000                 0.000000   \n",
       "50%    3.307905e+05    2003.000000     1510.000000                 0.000000   \n",
       "75%    1.179343e+06    2009.000000     1730.000000                 1.000000   \n",
       "max    1.880458e+06    2015.000000     2359.000000               278.000000   \n",
       "\n",
       "           CONT_TIME      FIRE_SIZE       LATITUDE      LONGITUDE  \\\n",
       "count  220068.000000  278468.000000  278468.000000  278468.000000   \n",
       "mean     1548.339354     312.543994      39.403305    -108.226305   \n",
       "std       438.388579    5759.149479       6.425141      14.320107   \n",
       "min         0.000000       0.000100      17.980278    -170.369400   \n",
       "25%      1242.000000       0.100000      34.633300    -117.578143   \n",
       "50%      1608.000000       0.200000      39.491600    -111.470000   \n",
       "75%      1835.000000       2.000000      44.033070    -105.056100   \n",
       "max      2359.000000  606945.000000      70.138100     -67.158333   \n",
       "\n",
       "           FIPS_CODE            ppt  ...           tmax         tmax-7  \\\n",
       "count  156911.000000  131469.000000  ...  131469.000000  131471.000000   \n",
       "mean       58.712276       1.159723  ...      28.126682      28.696259   \n",
       "std        66.980014       4.231519  ...       6.317697       5.513469   \n",
       "min         1.000000       0.000000  ...     -12.044000      -8.421714   \n",
       "25%        19.000000       0.000000  ...      24.799000      25.685716   \n",
       "50%        41.000000       0.000000  ...      29.007000      29.358570   \n",
       "75%        77.000000       0.086000  ...      32.502998      32.553429   \n",
       "max       800.000000     274.108002  ...      48.147999      46.906139   \n",
       "\n",
       "                tmin         tmin-7         tdmean       tdmean-7  \\\n",
       "count  131469.000000  131471.000000  131395.000000  131471.000000   \n",
       "mean       12.312761      12.795522       6.571763       7.178250   \n",
       "std         6.288081       5.807111       8.377103       7.619180   \n",
       "min       -25.070000     -20.154144     -22.155001     -18.173141   \n",
       "25%         8.244000       9.029643       0.822000       1.962571   \n",
       "50%        12.041000      12.380429       5.753000       5.950000   \n",
       "75%        16.490000      16.494572      11.461500      11.126358   \n",
       "max        32.653000      31.742285      26.500000      25.960714   \n",
       "\n",
       "              vpdmin       vpdmin-7         vpdmax       vpdmax-7  \n",
       "count  131469.000000  131471.000000  120487.000000  120492.000000  \n",
       "mean        4.195769       4.271613      29.683108      30.574807  \n",
       "std         3.912654       3.438213      12.388688      10.674274  \n",
       "min         0.000000       0.000000       0.000000       1.197572  \n",
       "25%         1.119000       1.600143      21.274500      23.364892  \n",
       "50%         3.043000       3.485857      29.143999      30.094500  \n",
       "75%         6.234000       6.022643      37.490002      37.252892  \n",
       "max        40.929001      35.721428     107.706001      91.770439  \n",
       "\n",
       "[8 rows x 23 columns]"
      ]
     },
     "execution_count": 24,
     "metadata": {},
     "output_type": "execute_result"
    }
   ],
   "source": [
    "df.describe()"
   ]
  },
  {
   "cell_type": "code",
   "execution_count": 23,
   "id": "4f945018-8efb-488a-8356-216ad337aee0",
   "metadata": {},
   "outputs": [],
   "source": [
    "df.to_csv('forest_fire_with_climate.csv')"
   ]
  }
 ],
 "metadata": {
  "kernelspec": {
   "display_name": "Python 3 (ipykernel)",
   "language": "python",
   "name": "python3"
  },
  "language_info": {
   "codemirror_mode": {
    "name": "ipython",
    "version": 3
   },
   "file_extension": ".py",
   "mimetype": "text/x-python",
   "name": "python",
   "nbconvert_exporter": "python",
   "pygments_lexer": "ipython3",
   "version": "3.8.11"
  }
 },
 "nbformat": 4,
 "nbformat_minor": 5
}
