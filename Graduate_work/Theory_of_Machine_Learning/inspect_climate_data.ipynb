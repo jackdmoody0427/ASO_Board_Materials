{
 "cells": [
  {
   "cell_type": "markdown",
   "id": "fed26211-9758-4df0-b05d-be7e992b78ac",
   "metadata": {},
   "source": [
    "Might be useful: \n",
    "- https://github.com/sdtaylor/pyPRISMClimate\n",
    "- https://gist.github.com/dbr/3351090\n",
    "\n",
    "https://prism.oregonstate.edu/documents/PRISM_formats.pdf\n",
    "\n",
    "https://help.arcgis.com/en/arcgisdesktop/10.0/help/index.html#//009t00000010000000"
   ]
  },
  {
   "cell_type": "code",
   "execution_count": 7,
   "id": "10abd1ae-45c5-4639-8815-a0c82d6ac0bd",
   "metadata": {},
   "outputs": [],
   "source": [
    "import itertools\n",
    "import os\n",
    "import pickle\n",
    "import tempfile\n",
    "import zipfile\n",
    "\n",
    "from pathlib import Path\n",
    "\n",
    "import pandas as pd\n",
    "import rasterio"
   ]
  },
  {
   "cell_type": "code",
   "execution_count": 6,
   "id": "387db9ae-2b7e-4a9b-a420-3c4060976c40",
   "metadata": {},
   "outputs": [
    {
     "name": "stdout",
     "output_type": "stream",
     "text": [
      "\u001b[01;34m./climate_data\u001b[00m\n",
      "├── \u001b[01;34mmax_temp\u001b[00m\n",
      "│   └── \u001b[01;34mmax_temp\u001b[00m\n",
      "│       ├── \u001b[01;32mPRISM_tmax_stable_4kmD2_20040101_20041231_bil.zip\u001b[00m\n",
      "│       ├── \u001b[01;32mPRISM_tmax_stable_4kmD2_20050101_20051231_bil.zip\u001b[00m\n",
      "│       ├── \u001b[01;32mPRISM_tmax_stable_4kmD2_20060101_20061231_bil.zip\u001b[00m\n",
      "│       ├── \u001b[01;32mPRISM_tmax_stable_4kmD2_20070101_20071231_bil.zip\u001b[00m\n",
      "│       ├── \u001b[01;32mPRISM_tmax_stable_4kmD2_20080101_20081231_bil.zip\u001b[00m\n",
      "│       ├── \u001b[01;32mPRISM_tmax_stable_4kmD2_20090101_20091231_bil.zip\u001b[00m\n",
      "│       ├── \u001b[01;32mPRISM_tmax_stable_4kmD2_20100101_20101231_bil.zip\u001b[00m\n",
      "│       ├── \u001b[01;32mPRISM_tmax_stable_4kmD2_20110101_20111231_bil.zip\u001b[00m\n",
      "│       ├── \u001b[01;32mPRISM_tmax_stable_4kmD2_20120101_20121231_bil.zip\u001b[00m\n",
      "│       ├── \u001b[01;32mPRISM_tmax_stable_4kmD2_20130101_20131231_bil.zip\u001b[00m\n",
      "│       ├── \u001b[01;32mPRISM_tmax_stable_4kmD2_20140101_20141231_bil.zip\u001b[00m\n",
      "│       └── \u001b[01;32mPRISM_tmax_stable_4kmD2_20150101_20151231_bil.zip\u001b[00m\n",
      "├── \u001b[01;34mmax_vapor_pressure_deficit\u001b[00m\n",
      "│   └── \u001b[01;34mmax_vapor_pressure_deficit\u001b[00m\n",
      "│       ├── \u001b[01;32mPRISM_vpdmax_stable_4kmD2_20040101_20041231_bil.zip\u001b[00m\n",
      "│       ├── \u001b[01;32mPRISM_vpdmax_stable_4kmD2_20050101_20051231_bil.zip\u001b[00m\n",
      "│       ├── \u001b[01;32mPRISM_vpdmax_stable_4kmD2_20060101_20061231_bil.zip\u001b[00m\n",
      "│       ├── \u001b[01;32mPRISM_vpdmax_stable_4kmD2_20070101_20071231_bil.zip\u001b[00m\n",
      "│       ├── \u001b[01;32mPRISM_vpdmax_stable_4kmD2_20080101_20081231_bil.zip\u001b[00m\n",
      "│       ├── \u001b[01;32mPRISM_vpdmax_stable_4kmD2_20090101_20091231_bil.zip\u001b[00m\n",
      "│       ├── \u001b[01;32mPRISM_vpdmax_stable_4kmD2_20100101_20101231_bil.zip\u001b[00m\n",
      "│       ├── \u001b[01;32mPRISM_vpdmax_stable_4kmD2_20110101_20111231_bil.zip\u001b[00m\n",
      "│       ├── \u001b[01;32mPRISM_vpdmax_stable_4kmD2_20130101_20131231_bil.zip\u001b[00m\n",
      "│       ├── \u001b[01;32mPRISM_vpdmax_stable_4kmD2_20140101_20141231_bil.zip\u001b[00m\n",
      "│       └── \u001b[01;32mPRISM_vpdmax_stable_4kmD2_20150101_20151231_bil.zip\u001b[00m\n",
      "├── \u001b[01;34mmean_dew_pt_temp\u001b[00m\n",
      "│   └── \u001b[01;34mmean_dew_pt_temp\u001b[00m\n",
      "│       ├── \u001b[01;32mPRISM_tdmean_stable_4kmD2_20040101_20041231_bil.zip\u001b[00m\n",
      "│       ├── \u001b[01;32mPRISM_tdmean_stable_4kmD2_20050101_20051231_bil.zip\u001b[00m\n",
      "│       ├── \u001b[01;32mPRISM_tdmean_stable_4kmD2_20060101_20061231_bil.zip\u001b[00m\n",
      "│       ├── \u001b[01;32mPRISM_tdmean_stable_4kmD2_20070101_20071231_bil.zip\u001b[00m\n",
      "│       ├── \u001b[01;32mPRISM_tdmean_stable_4kmD2_20080101_20081231_bil.zip\u001b[00m\n",
      "│       ├── \u001b[01;32mPRISM_tdmean_stable_4kmD2_20090101_20091231_bil.zip\u001b[00m\n",
      "│       ├── \u001b[01;32mPRISM_tdmean_stable_4kmD2_20100101_20101231_bil.zip\u001b[00m\n",
      "│       ├── \u001b[01;32mPRISM_tdmean_stable_4kmD2_20110101_20111231_bil.zip\u001b[00m\n",
      "│       ├── \u001b[01;32mPRISM_tdmean_stable_4kmD2_20120101_20121231_bil.zip\u001b[00m\n",
      "│       ├── \u001b[01;32mPRISM_tdmean_stable_4kmD2_20130101_20131231_bil.zip\u001b[00m\n",
      "│       ├── \u001b[01;32mPRISM_tdmean_stable_4kmD2_20140101_20141231_bil.zip\u001b[00m\n",
      "│       └── \u001b[01;32mPRISM_tdmean_stable_4kmD2_20150101_20151231_bil.zip\u001b[00m\n",
      "├── \u001b[01;34mmean_temp\u001b[00m\n",
      "│   └── \u001b[01;34mmean_temp\u001b[00m\n",
      "│       ├── \u001b[01;32mPRISM_tmean_stable_4kmD2_20040101_20041231_bil.zip\u001b[00m\n",
      "│       ├── \u001b[01;32mPRISM_tmean_stable_4kmD2_20050101_20051231_bil.zip\u001b[00m\n",
      "│       ├── \u001b[01;32mPRISM_tmean_stable_4kmD2_20060101_20061231_bil.zip\u001b[00m\n",
      "│       ├── \u001b[01;32mPRISM_tmean_stable_4kmD2_20070101_20071231_bil.zip\u001b[00m\n",
      "│       ├── \u001b[01;32mPRISM_tmean_stable_4kmD2_20080101_20081231_bil.zip\u001b[00m\n",
      "│       ├── \u001b[01;32mPRISM_tmean_stable_4kmD2_20090101_20091231_bil.zip\u001b[00m\n",
      "│       ├── \u001b[01;32mPRISM_tmean_stable_4kmD2_20100101_20101231_bil.zip\u001b[00m\n",
      "│       ├── \u001b[01;32mPRISM_tmean_stable_4kmD2_20110101_20111231_bil.zip\u001b[00m\n",
      "│       ├── \u001b[01;32mPRISM_tmean_stable_4kmD2_20120101_20121231_bil.zip\u001b[00m\n",
      "│       ├── \u001b[01;32mPRISM_tmean_stable_4kmD2_20130101_20131231_bil.zip\u001b[00m\n",
      "│       ├── \u001b[01;32mPRISM_tmean_stable_4kmD2_20140101_20141231_bil.zip\u001b[00m\n",
      "│       └── \u001b[01;32mPRISM_tmean_stable_4kmD2_20150101_20151231_bil.zip\u001b[00m\n",
      "├── \u001b[01;34mmin_temp\u001b[00m\n",
      "│   └── \u001b[01;34mmin_temp\u001b[00m\n",
      "│       ├── \u001b[01;32mPRISM_tmin_stable_4kmD2_20040101_20041231_bil.zip\u001b[00m\n",
      "│       ├── \u001b[01;32mPRISM_tmin_stable_4kmD2_20050101_20051231_bil.zip\u001b[00m\n",
      "│       ├── \u001b[01;32mPRISM_tmin_stable_4kmD2_20060101_20061231_bil.zip\u001b[00m\n",
      "│       ├── \u001b[01;32mPRISM_tmin_stable_4kmD2_20070101_20071231_bil.zip\u001b[00m\n",
      "│       ├── \u001b[01;32mPRISM_tmin_stable_4kmD2_20080101_20081231_bil.zip\u001b[00m\n",
      "│       ├── \u001b[01;32mPRISM_tmin_stable_4kmD2_20090101_20091231_bil.zip\u001b[00m\n",
      "│       ├── \u001b[01;32mPRISM_tmin_stable_4kmD2_20100101_20101231_bil.zip\u001b[00m\n",
      "│       ├── \u001b[01;32mPRISM_tmin_stable_4kmD2_20110101_20111231_bil.zip\u001b[00m\n",
      "│       ├── \u001b[01;32mPRISM_tmin_stable_4kmD2_20120101_20121231_bil.zip\u001b[00m\n",
      "│       ├── \u001b[01;32mPRISM_tmin_stable_4kmD2_20130101_20131231_bil.zip\u001b[00m\n",
      "│       ├── \u001b[01;32mPRISM_tmin_stable_4kmD2_20140101_20141231_bil.zip\u001b[00m\n",
      "│       └── \u001b[01;32mPRISM_tmin_stable_4kmD2_20150101_20151231_bil.zip\u001b[00m\n",
      "├── \u001b[01;34mmin_vapor_pressure_deficit\u001b[00m\n",
      "│   └── \u001b[01;34mmin_vapor_pressure_deficit\u001b[00m\n",
      "│       ├── \u001b[01;32mPRISM_vpdmin_stable_4kmD2_20040101_20041231_bil.zip\u001b[00m\n",
      "│       ├── \u001b[01;32mPRISM_vpdmin_stable_4kmD2_20050101_20051231_bil.zip\u001b[00m\n",
      "│       ├── \u001b[01;32mPRISM_vpdmin_stable_4kmD2_20060101_20061231_bil.zip\u001b[00m\n",
      "│       ├── \u001b[01;32mPRISM_vpdmin_stable_4kmD2_20070101_20071231_bil.zip\u001b[00m\n",
      "│       ├── \u001b[01;32mPRISM_vpdmin_stable_4kmD2_20080101_20081231_bil.zip\u001b[00m\n",
      "│       ├── \u001b[01;32mPRISM_vpdmin_stable_4kmD2_20090101_20091231_bil.zip\u001b[00m\n",
      "│       ├── \u001b[01;32mPRISM_vpdmin_stable_4kmD2_20100101_20101231_bil.zip\u001b[00m\n",
      "│       ├── \u001b[01;32mPRISM_vpdmin_stable_4kmD2_20110101_20111231_bil.zip\u001b[00m\n",
      "│       ├── \u001b[01;32mPRISM_vpdmin_stable_4kmD2_20120101_20121231_bil.zip\u001b[00m\n",
      "│       ├── \u001b[01;32mPRISM_vpdmin_stable_4kmD2_20130101_20131231_bil.zip\u001b[00m\n",
      "│       ├── \u001b[01;32mPRISM_vpdmin_stable_4kmD2_20140101_20141231_bil.zip\u001b[00m\n",
      "│       └── \u001b[01;32mPRISM_vpdmin_stable_4kmD2_20150101_20151231_bil.zip\u001b[00m\n",
      "└── \u001b[01;34mprecipitation\u001b[00m\n",
      "    └── \u001b[01;34mprecipitation\u001b[00m\n",
      "        ├── \u001b[01;32mPRISM_ppt_stable_4kmD2_20040101_20041231_bil.zip\u001b[00m\n",
      "        ├── \u001b[01;32mPRISM_ppt_stable_4kmD2_20050101_20051231_bil.zip\u001b[00m\n",
      "        ├── \u001b[01;32mPRISM_ppt_stable_4kmD2_20060101_20061231_bil.zip\u001b[00m\n",
      "        ├── \u001b[01;32mPRISM_ppt_stable_4kmD2_20070101_20071231_bil.zip\u001b[00m\n",
      "        ├── \u001b[01;32mPRISM_ppt_stable_4kmD2_20080101_20081231_bil.zip\u001b[00m\n",
      "        ├── \u001b[01;32mPRISM_ppt_stable_4kmD2_20090101_20091231_bil.zip\u001b[00m\n",
      "        ├── \u001b[01;32mPRISM_ppt_stable_4kmD2_20100101_20101231_bil.zip\u001b[00m\n",
      "        ├── \u001b[01;32mPRISM_ppt_stable_4kmD2_20110101_20111231_bil.zip\u001b[00m\n",
      "        ├── \u001b[01;32mPRISM_ppt_stable_4kmD2_20120101_20121231_bil.zip\u001b[00m\n",
      "        ├── \u001b[01;32mPRISM_ppt_stable_4kmD2_20130101_20131231_bil.zip\u001b[00m\n",
      "        ├── \u001b[01;32mPRISM_ppt_stable_4kmD2_20140101_20141231_bil.zip\u001b[00m\n",
      "        └── \u001b[01;32mPRISM_ppt_stable_4kmD2_20150101_20151231_bil.zip\u001b[00m\n",
      "\n",
      "14 directories, 83 files\n"
     ]
    }
   ],
   "source": [
    "!tree ./climate_data"
   ]
  },
  {
   "cell_type": "code",
   "execution_count": 39,
   "id": "7ad0716f-50df-41a0-ae05-a825b3cbaa75",
   "metadata": {},
   "outputs": [],
   "source": [
    "extract_dir = Path('./extracted_data')\n",
    "extract_dir.mkdir(parents=True, exist_ok=True)"
   ]
  },
  {
   "cell_type": "markdown",
   "id": "a55c6a4d-529a-47f4-b108-b83ec1fee2cb",
   "metadata": {},
   "source": [
    "This section of code tracks any files that have already been extracted, so that we don't extract them again."
   ]
  },
  {
   "cell_type": "code",
   "execution_count": 8,
   "id": "3fdb528c-4260-4212-b32c-a2e686cc3a3f",
   "metadata": {},
   "outputs": [],
   "source": [
    "existing_files = set()\n",
    "for root, dirs, files in os.walk(str(extract_dir)):\n",
    "    root_path = Path(root)\n",
    "    for ff in files:\n",
    "        existing_files.add(str(ff))"
   ]
  },
  {
   "cell_type": "markdown",
   "id": "0c9a0424-22af-49a1-a472-954988f8fb89",
   "metadata": {},
   "source": [
    "We recursively look into folders of zip files and only extract the `.hdr` and `.bil` files.\n",
    "We also make sure that we don't extract anything that exists in the `extracted_dir` already."
   ]
  },
  {
   "cell_type": "code",
   "execution_count": 9,
   "id": "98d037e5-a3d6-4680-8036-d2e0a170e7ca",
   "metadata": {},
   "outputs": [],
   "source": [
    "for root, dirs, files in os.walk('climate_data'):\n",
    "    root_path = Path(root)\n",
    "    for ff in files:\n",
    "        file_path = root_path / ff\n",
    "        if file_path.suffix == '.zip':\n",
    "            with zipfile.ZipFile(file_path, 'r') as archive:\n",
    "                for afile in archive.filelist:\n",
    "                    if afile.filename in existing_files:\n",
    "                        continue\n",
    "                    if afile.filename.endswith('.hdr') or afile.filename.endswith('.bil'):\n",
    "                        src_file = archive.extract(afile, path=extract_dir)"
   ]
  },
  {
   "cell_type": "markdown",
   "id": "4fb1abc5-6443-4122-bff3-275790fc2634",
   "metadata": {},
   "source": [
    "We use `rasterio` to read a `.bil` file."
   ]
  },
  {
   "cell_type": "code",
   "execution_count": 40,
   "id": "e31d03c4-0ad3-4a0b-8bef-21a0d2b359ff",
   "metadata": {},
   "outputs": [
    {
     "name": "stdout",
     "output_type": "stream",
     "text": [
      "<open DatasetReader name='extracted_data/PRISM_tmax_stable_4kmD2_20080921_bil.bil' mode='r'>\n"
     ]
    }
   ],
   "source": [
    "data_items = []\n",
    "for root, dirs, files in os.walk(str(extract_dir)):\n",
    "    root_path = Path(root)\n",
    "    for ff in files:\n",
    "        f_path = root_path / ff\n",
    "\n",
    "        if f_path.suffix == '.bil':\n",
    "            try:\n",
    "                data = rasterio.open(f_path)\n",
    "                data_items.append(data)\n",
    "                print(data)\n",
    "            except Exception as e:\n",
    "                print(e)\n",
    "            \n",
    "            # this is only a test file and we stop after the first file we find\n",
    "            break"
   ]
  },
  {
   "cell_type": "code",
   "execution_count": 41,
   "id": "4238dac6-b237-4735-825d-3a14b44de7ae",
   "metadata": {},
   "outputs": [
    {
     "data": {
      "text/plain": [
       "481631"
      ]
     },
     "execution_count": 41,
     "metadata": {},
     "output_type": "execute_result"
    }
   ],
   "source": [
    "data_ary = data_items[0].read()\n",
    "len(data_ary[data_ary!=-9999])"
   ]
  },
  {
   "cell_type": "code",
   "execution_count": 42,
   "id": "00e528f7-6a27-4cb7-9324-c72dfdef12bd",
   "metadata": {},
   "outputs": [
    {
     "name": "stdout",
     "output_type": "stream",
     "text": [
      "621 1405\n"
     ]
    }
   ],
   "source": [
    "print(data_items[0].height, data_items[0].width)"
   ]
  },
  {
   "cell_type": "code",
   "execution_count": 49,
   "id": "da504b66-2bb5-46b5-8450-24ec0681f930",
   "metadata": {},
   "outputs": [
    {
     "data": {
      "text/plain": [
       "BoundingBox(left=-125.02083333333336, bottom=24.062499999979053, right=-66.47916666661986, top=49.93749999999975)"
      ]
     },
     "execution_count": 49,
     "metadata": {},
     "output_type": "execute_result"
    }
   ],
   "source": [
    "data_items[0].bounds"
   ]
  },
  {
   "cell_type": "code",
   "execution_count": 50,
   "id": "75d248e3-801c-4729-ad4a-50744d58d470",
   "metadata": {},
   "outputs": [
    {
     "data": {
      "text/plain": [
       "-125.02083333333336"
      ]
     },
     "execution_count": 50,
     "metadata": {},
     "output_type": "execute_result"
    }
   ],
   "source": [
    "data_items[0].bounds.left"
   ]
  },
  {
   "cell_type": "code",
   "execution_count": 51,
   "id": "42b4a4a0-0ae0-4495-bc79-648a2d4eb947",
   "metadata": {},
   "outputs": [
    {
     "data": {
      "text/plain": [
       "-66.47916666661986"
      ]
     },
     "execution_count": 51,
     "metadata": {},
     "output_type": "execute_result"
    }
   ],
   "source": [
    "data_items[0].bounds.right"
   ]
  },
  {
   "cell_type": "code",
   "execution_count": 52,
   "id": "17bd62cc-deac-45fc-80ad-d0c90e3f5182",
   "metadata": {},
   "outputs": [
    {
     "data": {
      "text/plain": [
       "49.93749999999975"
      ]
     },
     "execution_count": 52,
     "metadata": {},
     "output_type": "execute_result"
    }
   ],
   "source": [
    "data_items[0].bounds.top"
   ]
  },
  {
   "cell_type": "code",
   "execution_count": 53,
   "id": "a8eb34df-c0dd-434d-98f7-0ea4f084d69f",
   "metadata": {},
   "outputs": [
    {
     "data": {
      "text/plain": [
       "24.062499999979053"
      ]
     },
     "execution_count": 53,
     "metadata": {},
     "output_type": "execute_result"
    }
   ],
   "source": [
    "data_items[0].bounds.bottom"
   ]
  },
  {
   "cell_type": "code",
   "execution_count": 54,
   "id": "37c771cb-6af3-41b9-ab47-ffebceccadb3",
   "metadata": {},
   "outputs": [
    {
     "name": "stdout",
     "output_type": "stream",
     "text": [
      "0.0416666666667\n"
     ]
    }
   ],
   "source": [
    "delta_x = (data_items[0].bounds.right - data_items[0].bounds.left) / data_items[0].width\n",
    "print(delta_x)"
   ]
  },
  {
   "cell_type": "code",
   "execution_count": 55,
   "id": "524d3111-7b72-4eef-afca-5eaa6765c769",
   "metadata": {},
   "outputs": [
    {
     "name": "stdout",
     "output_type": "stream",
     "text": [
      "0.0416666666667\n"
     ]
    }
   ],
   "source": [
    "delta_y = (data_items[0].bounds.top - data_items[0].bounds.bottom) / data_items[0].height\n",
    "print(delta_y)"
   ]
  },
  {
   "cell_type": "code",
   "execution_count": null,
   "id": "7db91e42-d204-47c7-9568-c98535afeb28",
   "metadata": {},
   "outputs": [],
   "source": []
  },
  {
   "cell_type": "markdown",
   "id": "a77dee9b-467c-4047-8d23-ea624b4aa0ef",
   "metadata": {},
   "source": [
    "We take a look at the contents of the header file."
   ]
  },
  {
   "cell_type": "code",
   "execution_count": 15,
   "id": "1fdb6d81-6cf0-4acf-96a4-54920ae5a58d",
   "metadata": {},
   "outputs": [
    {
     "name": "stdout",
     "output_type": "stream",
     "text": [
      "BYTEORDER      I\n",
      "LAYOUT         BIL\n",
      "NROWS          621\n",
      "NCOLS          1405\n",
      "NBANDS         1\n",
      "NBITS          32\n",
      "BANDROWBYTES   5620\n",
      "TOTALROWBYTES  5620\n",
      "PIXELTYPE      FLOAT\n",
      "ULXMAP         -125\n",
      "ULYMAP         49.9166666666664\n",
      "XDIM           0.0416666666667\n",
      "YDIM           0.0416666666667\n",
      "NODATA         -9999\n"
     ]
    }
   ],
   "source": [
    "!cat extracted_data/PRISM_tmax_stable_4kmD2_20080921_bil.hdr"
   ]
  },
  {
   "cell_type": "markdown",
   "id": "7b4f909f-084b-4269-9c4f-76718884c0e3",
   "metadata": {},
   "source": [
    "Docs on the  rasterio [xy](https://rasterio.readthedocs.io/en/latest/api/rasterio.transform.html#rasterio.transform.TransformMethodsMixin.xy) function."
   ]
  },
  {
   "cell_type": "code",
   "execution_count": 16,
   "id": "3b6e71c7-4b3d-4cf8-a582-003989f1fec1",
   "metadata": {
    "tags": []
   },
   "outputs": [
    {
     "name": "stdout",
     "output_type": "stream",
     "text": [
      "12 717 (-95.1249999999761, 49.416666666666) 13.322\n"
     ]
    },
    {
     "ename": "Exception",
     "evalue": "",
     "output_type": "error",
     "traceback": [
      "\u001b[0;31m---------------------------------------------------------------------------\u001b[0m",
      "\u001b[0;31mException\u001b[0m                                 Traceback (most recent call last)",
      "\u001b[0;32m/tmp/ipykernel_167914/154156666.py\u001b[0m in \u001b[0;36m<module>\u001b[0;34m\u001b[0m\n\u001b[1;32m     10\u001b[0m \u001b[0;34m\u001b[0m\u001b[0m\n\u001b[1;32m     11\u001b[0m             \u001b[0;31m# I just want to look at the first non-empty entry\u001b[0m\u001b[0;34m\u001b[0m\u001b[0;34m\u001b[0m\u001b[0;34m\u001b[0m\u001b[0m\n\u001b[0;32m---> 12\u001b[0;31m             \u001b[0;32mraise\u001b[0m \u001b[0mException\u001b[0m\u001b[0;34m(\u001b[0m\u001b[0;34m)\u001b[0m\u001b[0;34m\u001b[0m\u001b[0;34m\u001b[0m\u001b[0m\n\u001b[0m",
      "\u001b[0;31mException\u001b[0m: "
     ]
    }
   ],
   "source": [
    "for data in data_items:\n",
    "    data_ary = data.read()\n",
    "    for ii in range(data.height):\n",
    "        for jj in range(data.width):\n",
    "            if data_ary[0,ii,jj] == -9999:\n",
    "                # no data\n",
    "                continue\n",
    "\n",
    "            print(ii,jj,data.xy(ii,jj), data_ary[0,ii,jj])\n",
    "\n",
    "            # I just want to look at the first non-empty entry\n",
    "            raise Exception()"
   ]
  },
  {
   "cell_type": "code",
   "execution_count": 125,
   "id": "f74ea008-26dd-4049-89e8-84693d8037b8",
   "metadata": {},
   "outputs": [
    {
     "name": "stdout",
     "output_type": "stream",
     "text": [
      "0.041666666666699825\n",
      "25.87500000002069\n",
      "621.0000000000024 621\n",
      "-0.041666666666699825\n",
      "-58.541666666713496\n",
      "1405.0000000000057 1405\n"
     ]
    }
   ],
   "source": [
    "(x0, y0) = data.xy(0,0)\n",
    "(x1, y1) = data.xy(1,1)\n",
    "(xn, yn) = data.xy(data.width, data.height)\n",
    "print((x1-x0))\n",
    "print((xn-x0))\n",
    "print((xn-x0)/(x1-x0), data.height)\n",
    "print((y1-y0))\n",
    "print(yn-y0)\n",
    "print((yn-y0)/(y1-y0), data.width)"
   ]
  },
  {
   "cell_type": "code",
   "execution_count": 95,
   "id": "aea6bd36-4d35-40ec-821b-f732db65ab45",
   "metadata": {},
   "outputs": [
    {
     "data": {
      "text/plain": [
       "(-99.12499999997931, -8.625000000047095)"
      ]
     },
     "execution_count": 95,
     "metadata": {},
     "output_type": "execute_result"
    }
   ],
   "source": [
    "data.xy(data.width, data.height)"
   ]
  },
  {
   "cell_type": "code",
   "execution_count": 94,
   "id": "0d08b271-198a-4b50-80e3-4402d182d46f",
   "metadata": {},
   "outputs": [
    {
     "data": {
      "text/plain": [
       "49.93749999999975"
      ]
     },
     "execution_count": 94,
     "metadata": {},
     "output_type": "execute_result"
    }
   ],
   "source": [
    "data.bounds.top"
   ]
  },
  {
   "cell_type": "code",
   "execution_count": 115,
   "id": "4ca603a0-c3d7-4b35-bc81-8ed7358581f9",
   "metadata": {},
   "outputs": [
    {
     "data": {
      "text/plain": [
       "True"
      ]
     },
     "execution_count": 115,
     "metadata": {},
     "output_type": "execute_result"
    }
   ],
   "source": [
    "data.bounds.bottom < data.bounds.top"
   ]
  },
  {
   "cell_type": "code",
   "execution_count": 119,
   "id": "cb4ee1d5-dfaf-4657-9a49-e2f18a9bfd31",
   "metadata": {},
   "outputs": [
    {
     "data": {
      "text/plain": [
       "-9999.0"
      ]
     },
     "execution_count": 119,
     "metadata": {},
     "output_type": "execute_result"
    }
   ],
   "source": [
    "data.read()[0,data.height-1, data.width-1]"
   ]
  },
  {
   "cell_type": "code",
   "execution_count": null,
   "id": "ce3e8d7b-0779-472f-babc-de933856b9ec",
   "metadata": {},
   "outputs": [],
   "source": []
  },
  {
   "cell_type": "code",
   "execution_count": 123,
   "id": "a30b2132-b177-45af-a3d4-ab770fc56b09",
   "metadata": {},
   "outputs": [
    {
     "data": {
      "text/plain": [
       "(621, 1405)"
      ]
     },
     "execution_count": 123,
     "metadata": {},
     "output_type": "execute_result"
    }
   ],
   "source": [
    "(data.height, data.width)"
   ]
  },
  {
   "cell_type": "code",
   "execution_count": 122,
   "id": "42576fbc-2123-4233-ba35-dcc7ce0e6549",
   "metadata": {},
   "outputs": [
    {
     "data": {
      "text/plain": [
       "(1, 621, 1405)"
      ]
     },
     "execution_count": 122,
     "metadata": {},
     "output_type": "execute_result"
    }
   ],
   "source": [
    "data.read().shape"
   ]
  },
  {
   "cell_type": "code",
   "execution_count": 120,
   "id": "6c49d203-219c-4df3-83a3-7a9900c3e09b",
   "metadata": {},
   "outputs": [
    {
     "data": {
      "text/plain": [
       "\u001b[0;31mSignature:\u001b[0m \u001b[0mdata\u001b[0m\u001b[0;34m.\u001b[0m\u001b[0mxy\u001b[0m\u001b[0;34m(\u001b[0m\u001b[0mrow\u001b[0m\u001b[0;34m,\u001b[0m \u001b[0mcol\u001b[0m\u001b[0;34m,\u001b[0m \u001b[0moffset\u001b[0m\u001b[0;34m=\u001b[0m\u001b[0;34m'center'\u001b[0m\u001b[0;34m)\u001b[0m\u001b[0;34m\u001b[0m\u001b[0;34m\u001b[0m\u001b[0m\n",
       "\u001b[0;31mDocstring:\u001b[0m\n",
       "Returns the coordinates ``(x, y)`` of a pixel at `row` and `col`.\n",
       "The pixel's center is returned by default, but a corner can be returned\n",
       "by setting `offset` to one of `ul, ur, ll, lr`.\n",
       "\n",
       "Parameters\n",
       "----------\n",
       "row : int\n",
       "    Pixel row.\n",
       "col : int\n",
       "    Pixel column.\n",
       "offset : str, optional\n",
       "    Determines if the returned coordinates are for the center of the\n",
       "    pixel or for a corner.\n",
       "\n",
       "Returns\n",
       "-------\n",
       "tuple\n",
       "    ``(x, y)``\n",
       "\u001b[0;31mFile:\u001b[0m      ~/.pyenv/versions/3.8.11/lib/python3.8/site-packages/rasterio/transform.py\n",
       "\u001b[0;31mType:\u001b[0m      method\n"
      ]
     },
     "metadata": {},
     "output_type": "display_data"
    }
   ],
   "source": [
    "?data.xy"
   ]
  },
  {
   "cell_type": "code",
   "execution_count": 66,
   "id": "78ee19a2-49d7-45ba-8a62-01570a9588de",
   "metadata": {},
   "outputs": [
    {
     "data": {
      "text/plain": [
       "717.0000000000002"
      ]
     },
     "execution_count": 66,
     "metadata": {},
     "output_type": "execute_result"
    }
   ],
   "source": [
    "(-95.1249999999761 - data.bounds.left - 0.5*delta_x) / delta_x"
   ]
  },
  {
   "cell_type": "code",
   "execution_count": 65,
   "id": "a1efcfd2-1f3c-4ad8-9375-c7633fe06362",
   "metadata": {},
   "outputs": [
    {
     "data": {
      "text/plain": [
       "-95.12499999997611"
      ]
     },
     "execution_count": 65,
     "metadata": {},
     "output_type": "execute_result"
    }
   ],
   "source": [
    "data.bounds.left + 717.5 * delta_x"
   ]
  },
  {
   "cell_type": "code",
   "execution_count": 75,
   "id": "5e673bc4-626c-459d-96a4-34eaab5995b1",
   "metadata": {},
   "outputs": [
    {
     "data": {
      "text/plain": [
       "-11.999999999999947"
      ]
     },
     "execution_count": 75,
     "metadata": {},
     "output_type": "execute_result"
    }
   ],
   "source": [
    "(49.416666666666 - data.bounds.top + 0.5*delta_y) / delta_y"
   ]
  },
  {
   "cell_type": "code",
   "execution_count": 81,
   "id": "b98d744c-5ff3-4a76-a28d-db9198f8e880",
   "metadata": {},
   "outputs": [
    {
     "data": {
      "text/plain": [
       "12"
      ]
     },
     "execution_count": 81,
     "metadata": {},
     "output_type": "execute_result"
    }
   ],
   "source": [
    "round((data.bounds.top - 0.5*delta_y - 49.416666666666) / delta_y)"
   ]
  },
  {
   "cell_type": "code",
   "execution_count": 91,
   "id": "0417387f-e6b6-42c2-8c38-e32609ef306e",
   "metadata": {},
   "outputs": [
    {
     "data": {
      "text/plain": [
       "608.0"
      ]
     },
     "execution_count": 91,
     "metadata": {},
     "output_type": "execute_result"
    }
   ],
   "source": [
    "(49.416666666666 - (data.bounds.bottom + 0.5*delta_y)) / delta_y"
   ]
  },
  {
   "cell_type": "code",
   "execution_count": 103,
   "id": "dbd2a95c-9ace-405c-b7e5-ffed7f952433",
   "metadata": {},
   "outputs": [
    {
     "data": {
      "text/plain": [
       "12.0"
      ]
     },
     "execution_count": 103,
     "metadata": {},
     "output_type": "execute_result"
    }
   ],
   "source": [
    "(49.416666666666 - y0) / (y1-y0)"
   ]
  },
  {
   "cell_type": "code",
   "execution_count": 23,
   "id": "65989ce8-b8b9-41c1-bf57-c4b6eeaf075e",
   "metadata": {},
   "outputs": [
    {
     "name": "stdout",
     "output_type": "stream",
     "text": [
      "-125.0 -66.4583333332865\n",
      "24.041666666645703 49.9166666666664\n"
     ]
    }
   ],
   "source": [
    "min_x = float('+inf')\n",
    "max_x = float('-inf')\n",
    "min_y = float('+inf')\n",
    "max_y = float('-inf')\n",
    "\n",
    "for data in data_items:\n",
    "    for ii in range(data.height+1):\n",
    "        for jj in range(data.width+1):\n",
    "            (xx,yy) = data.xy(ii,jj)\n",
    "            min_x = min(min_x,xx)\n",
    "            max_x = max(min_x,xx)\n",
    "            min_y = min(min_y,yy)\n",
    "            max_y = max(max_y,yy)\n",
    "\n",
    "print(min_x, max_x)\n",
    "print(min_y, max_y)"
   ]
  },
  {
   "cell_type": "code",
   "execution_count": null,
   "id": "f55e0690-427e-4252-b2b8-29c2066eafa5",
   "metadata": {},
   "outputs": [],
   "source": []
  }
 ],
 "metadata": {
  "kernelspec": {
   "display_name": "Python 3 (ipykernel)",
   "language": "python",
   "name": "python3"
  },
  "language_info": {
   "codemirror_mode": {
    "name": "ipython",
    "version": 3
   },
   "file_extension": ".py",
   "mimetype": "text/x-python",
   "name": "python",
   "nbconvert_exporter": "python",
   "pygments_lexer": "ipython3",
   "version": "3.8.11"
  }
 },
 "nbformat": 4,
 "nbformat_minor": 5
}
